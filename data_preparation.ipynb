{
 "cells": [
  {
   "cell_type": "markdown",
   "source": [
    "Wczytanie danych oraz wyświetlenie pierwszych kilku wierszy"
   ],
   "metadata": {
    "collapsed": false
   },
   "id": "2b96637b1154aa7e"
  },
  {
   "cell_type": "code",
   "outputs": [],
   "source": [
    "import pandas as pd\n",
    "\n",
    "df = pd.read_csv('dataset/House_Rent_Dataset.csv')\n",
    "df.head()"
   ],
   "metadata": {
    "collapsed": false
   },
   "id": "e68e4464d82e938b",
   "execution_count": null
  },
  {
   "cell_type": "markdown",
   "source": [
    "Informacje o danych oraz Statystyki opisowe"
   ],
   "metadata": {
    "collapsed": false
   },
   "id": "c30e1b46887befd0"
  },
  {
   "cell_type": "code",
   "outputs": [],
   "source": [
    "df.info()\n",
    "df.describe()"
   ],
   "metadata": {
    "collapsed": false
   },
   "id": "c37333c0fab923e3",
   "execution_count": null
  },
  {
   "cell_type": "markdown",
   "source": [
    "Sprawdzenie brakujących wartości"
   ],
   "metadata": {
    "collapsed": false
   },
   "id": "ec74942bfaf23216"
  },
  {
   "cell_type": "raw",
   "source": [
    "df.isnull().sum()"
   ],
   "metadata": {
    "collapsed": false
   },
   "id": "788136e83f5b8e20"
  },
  {
   "cell_type": "markdown",
   "source": [
    "Przykład kodowania one-hot dla kolumny 'Furnishing Status'"
   ],
   "metadata": {
    "collapsed": false
   },
   "id": "1ef271913f12d783"
  },
  {
   "cell_type": "code",
   "outputs": [],
   "source": [
    "df = pd.get_dummies(df, columns=['Furnishing Status'], drop_first=True)\n"
   ],
   "metadata": {
    "collapsed": false
   },
   "id": "c4c5510717efb697",
   "execution_count": null
  },
  {
   "cell_type": "markdown",
   "source": [
    "Kolumna 'Floor' ma format np. '2 out of 5'. Możemy ją podzielić na dwie kolumny: 'Floor Level' i 'Total Floors'."
   ],
   "metadata": {
    "collapsed": false
   },
   "id": "d780092ac6bec5a9"
  },
  {
   "cell_type": "code",
   "outputs": [],
   "source": [
    "def split_floor(x):\n",
    "    parts = x.split(' out of ')\n",
    "    floor_level = parts[0]\n",
    "    total_floors = parts[1] if len(parts) > 1 else None\n",
    "    return pd.Series([floor_level, total_floors])\n",
    "\n",
    "df[['Floor Level', 'Total Floors']] = df['Floor'].apply(split_floor)\n",
    "\n",
    "df.drop('Floor', axis=1, inplace=True)\n"
   ],
   "metadata": {
    "collapsed": false
   },
   "id": "c0880f11b59727d6",
   "execution_count": null
  },
  {
   "cell_type": "markdown",
   "source": [
    "Zamień wartości tekstowe na numeryczne, np. 'Ground' na 0."
   ],
   "metadata": {
    "collapsed": false
   },
   "id": "e83cdb8f989074df"
  },
  {
   "cell_type": "code",
   "outputs": [],
   "source": [
    "df['Floor Level'] = df['Floor Level'].replace({'Ground': 0, 'Lower Basement': -1, 'Upper Basement': -2})\n",
    "df['Floor Level'] = pd.to_numeric(df['Floor Level'], errors='coerce')\n",
    "\n",
    "df['Total Floors'] = pd.to_numeric(df['Total Floors'], errors='coerce')"
   ],
   "metadata": {
    "collapsed": false
   },
   "id": "35a2dbf046a7d660",
   "execution_count": null
  },
  {
   "cell_type": "markdown",
   "source": [
    "Usunięcie jednostki 'sqft' i przekonwertanie jej na typ numeryczny."
   ],
   "metadata": {
    "collapsed": false
   },
   "id": "c87dc9cc6328d362"
  },
  {
   "cell_type": "code",
   "outputs": [],
   "source": [
    "print(df['Size'].dtype)\n",
    "print(df['Size'].isnull().sum())\n",
    "df['Size'] = df['Size'].astype(str)\n",
    "import numpy as np\n",
    "\n",
    "# Zamień 'nan' na NaN z numpy\n",
    "df['Size'] = df['Size'].replace('nan', np.nan)\n",
    "\n",
    "# Usuń ' sqft' i przekonwertuj na float\n",
    "df['Size'] = df['Size'].str.replace(' sqft', '')\n",
    "df['Size'] = df['Size'].astype(float)\n"
   ],
   "metadata": {
    "collapsed": false
   },
   "id": "11a699432c95435c",
   "execution_count": null
  },
  {
   "cell_type": "markdown",
   "source": [
    "Przekształcenie kolumny Posted On"
   ],
   "metadata": {
    "collapsed": false
   },
   "id": "3af9a8bee6ff690e"
  },
  {
   "cell_type": "code",
   "outputs": [],
   "source": [
    "df['Posted On'] = pd.to_datetime(df['Posted On'], format='%Y-%m-%d')"
   ],
   "metadata": {
    "collapsed": false
   },
   "id": "c92cdd4f9bdda05d",
   "execution_count": null
  },
  {
   "cell_type": "markdown",
   "source": [
    "Kolumny takie jak 'Area Locality' i 'Point of Contact' mogą być usunięte"
   ],
   "metadata": {
    "collapsed": false
   },
   "id": "12ec9dc2858670f8"
  },
  {
   "cell_type": "code",
   "outputs": [],
   "source": [
    "df.drop(['Area Locality', 'Point of Contact'], axis=1, inplace=True)"
   ],
   "metadata": {
    "collapsed": false
   },
   "id": "ed37b3a8783e00e1",
   "execution_count": null
  },
  {
   "cell_type": "markdown",
   "source": [
    "Przekształcenie innych kolumn kategorycznych"
   ],
   "metadata": {
    "collapsed": false
   },
   "id": "b485500430efba68"
  },
  {
   "cell_type": "code",
   "outputs": [],
   "source": [
    "categorical_cols = ['Area Type', 'City', 'Tenant Preferred']\n",
    "df = pd.get_dummies(df, columns=categorical_cols, drop_first=True)"
   ],
   "metadata": {
    "collapsed": false
   },
   "id": "e0da46cda9b65ab8",
   "execution_count": null
  },
  {
   "cell_type": "markdown",
   "source": [
    "Podział danych na cechy (X) i etykietę (y):"
   ],
   "metadata": {
    "collapsed": false
   },
   "id": "d64b2669dff96762"
  },
  {
   "cell_type": "code",
   "outputs": [],
   "source": [
    "# Zmienna docelowa\n",
    "y = df['Rent']\n",
    "\n",
    "# Cechy\n",
    "X = df.drop('Rent', axis=1)"
   ],
   "metadata": {
    "collapsed": false
   },
   "id": "64274ceb8eefc450",
   "execution_count": null
  },
  {
   "cell_type": "markdown",
   "source": [
    "Podział danych na zbiory treningowe i testowe:"
   ],
   "metadata": {
    "collapsed": false
   },
   "id": "df9017ff548a482d"
  },
  {
   "cell_type": "code",
   "outputs": [],
   "source": [
    "from sklearn.model_selection import train_test_split\n",
    "\n",
    "X_train, X_test, y_train, y_test = train_test_split(X, y, test_size=0.3, random_state=42)"
   ],
   "metadata": {
    "collapsed": false
   },
   "id": "26f2dafbe8aae99f",
   "execution_count": null
  },
  {
   "cell_type": "markdown",
   "source": [
    "Zapis pełnego, oczyszczonego zestawu danych"
   ],
   "metadata": {
    "collapsed": false
   },
   "id": "a811d8c43d7bbfe3"
  },
  {
   "cell_type": "code",
   "outputs": [],
   "source": [
    "# Zapis oczyszczonego zestawu danych do pliku CSV\n",
    "df.to_csv('data/cleaned_data.csv', index=False)"
   ],
   "metadata": {
    "collapsed": false
   },
   "id": "fbc123a5a58d43bc",
   "execution_count": null
  },
  {
   "cell_type": "markdown",
   "source": [
    "Zapis zbiorów treningowego i testowego"
   ],
   "metadata": {
    "collapsed": false
   },
   "id": "4bb20863f914de58"
  },
  {
   "cell_type": "code",
   "outputs": [],
   "source": [
    "# Zapis zbioru treningowego\n",
    "X_train.to_csv('data/X_train.csv', index=False)\n",
    "y_train.to_csv('data/y_train.csv', index=False)\n",
    "\n",
    "# Zapis zbioru testowego\n",
    "X_test.to_csv('data/X_test.csv', index=False)\n",
    "y_test.to_csv('data/y_test.csv', index=False)"
   ],
   "metadata": {
    "collapsed": false
   },
   "id": "398a91e590fbc116",
   "execution_count": null
  }
 ],
 "metadata": {
  "kernelspec": {
   "display_name": "Python 3",
   "language": "python",
   "name": "python3"
  },
  "language_info": {
   "codemirror_mode": {
    "name": "ipython",
    "version": 2
   },
   "file_extension": ".py",
   "mimetype": "text/x-python",
   "name": "python",
   "nbconvert_exporter": "python",
   "pygments_lexer": "ipython2",
   "version": "2.7.6"
  }
 },
 "nbformat": 4,
 "nbformat_minor": 5
}
