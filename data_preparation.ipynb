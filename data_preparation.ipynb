{
 "cells": [
  {
   "cell_type": "markdown",
   "source": [
    "Wczytanie danych oraz wyświetlenie pierwszych kilku wierszy"
   ],
   "metadata": {
    "collapsed": false
   },
   "id": "2b96637b1154aa7e"
  },
  {
   "cell_type": "code",
   "outputs": [
    {
     "data": {
      "text/plain": "    Posted On  BHK   Rent  Size            Floor    Area Type  \\\n0  2022-05-18    2  10000  1100  Ground out of 2   Super Area   \n1  2022-05-13    2  20000   800       1 out of 3   Super Area   \n2  2022-05-16    2  17000  1000       1 out of 3   Super Area   \n3  2022-07-04    2  10000   800       1 out of 2   Super Area   \n4  2022-05-09    2   7500   850       1 out of 2  Carpet Area   \n\n              Area Locality     City Furnishing Status  Tenant Preferred  \\\n0                    Bandel  Kolkata       Unfurnished  Bachelors/Family   \n1  Phool Bagan, Kankurgachi  Kolkata    Semi-Furnished  Bachelors/Family   \n2   Salt Lake City Sector 2  Kolkata    Semi-Furnished  Bachelors/Family   \n3               Dumdum Park  Kolkata       Unfurnished  Bachelors/Family   \n4             South Dum Dum  Kolkata       Unfurnished         Bachelors   \n\n   Bathroom Point of Contact  \n0         2    Contact Owner  \n1         1    Contact Owner  \n2         1    Contact Owner  \n3         1    Contact Owner  \n4         1    Contact Owner  ",
      "text/html": "<div>\n<style scoped>\n    .dataframe tbody tr th:only-of-type {\n        vertical-align: middle;\n    }\n\n    .dataframe tbody tr th {\n        vertical-align: top;\n    }\n\n    .dataframe thead th {\n        text-align: right;\n    }\n</style>\n<table border=\"1\" class=\"dataframe\">\n  <thead>\n    <tr style=\"text-align: right;\">\n      <th></th>\n      <th>Posted On</th>\n      <th>BHK</th>\n      <th>Rent</th>\n      <th>Size</th>\n      <th>Floor</th>\n      <th>Area Type</th>\n      <th>Area Locality</th>\n      <th>City</th>\n      <th>Furnishing Status</th>\n      <th>Tenant Preferred</th>\n      <th>Bathroom</th>\n      <th>Point of Contact</th>\n    </tr>\n  </thead>\n  <tbody>\n    <tr>\n      <th>0</th>\n      <td>2022-05-18</td>\n      <td>2</td>\n      <td>10000</td>\n      <td>1100</td>\n      <td>Ground out of 2</td>\n      <td>Super Area</td>\n      <td>Bandel</td>\n      <td>Kolkata</td>\n      <td>Unfurnished</td>\n      <td>Bachelors/Family</td>\n      <td>2</td>\n      <td>Contact Owner</td>\n    </tr>\n    <tr>\n      <th>1</th>\n      <td>2022-05-13</td>\n      <td>2</td>\n      <td>20000</td>\n      <td>800</td>\n      <td>1 out of 3</td>\n      <td>Super Area</td>\n      <td>Phool Bagan, Kankurgachi</td>\n      <td>Kolkata</td>\n      <td>Semi-Furnished</td>\n      <td>Bachelors/Family</td>\n      <td>1</td>\n      <td>Contact Owner</td>\n    </tr>\n    <tr>\n      <th>2</th>\n      <td>2022-05-16</td>\n      <td>2</td>\n      <td>17000</td>\n      <td>1000</td>\n      <td>1 out of 3</td>\n      <td>Super Area</td>\n      <td>Salt Lake City Sector 2</td>\n      <td>Kolkata</td>\n      <td>Semi-Furnished</td>\n      <td>Bachelors/Family</td>\n      <td>1</td>\n      <td>Contact Owner</td>\n    </tr>\n    <tr>\n      <th>3</th>\n      <td>2022-07-04</td>\n      <td>2</td>\n      <td>10000</td>\n      <td>800</td>\n      <td>1 out of 2</td>\n      <td>Super Area</td>\n      <td>Dumdum Park</td>\n      <td>Kolkata</td>\n      <td>Unfurnished</td>\n      <td>Bachelors/Family</td>\n      <td>1</td>\n      <td>Contact Owner</td>\n    </tr>\n    <tr>\n      <th>4</th>\n      <td>2022-05-09</td>\n      <td>2</td>\n      <td>7500</td>\n      <td>850</td>\n      <td>1 out of 2</td>\n      <td>Carpet Area</td>\n      <td>South Dum Dum</td>\n      <td>Kolkata</td>\n      <td>Unfurnished</td>\n      <td>Bachelors</td>\n      <td>1</td>\n      <td>Contact Owner</td>\n    </tr>\n  </tbody>\n</table>\n</div>"
     },
     "execution_count": 1,
     "metadata": {},
     "output_type": "execute_result"
    }
   ],
   "source": [
    "import pandas as pd\n",
    "\n",
    "df = pd.read_csv('dataset/House_Rent_Dataset.csv')\n",
    "df.head()"
   ],
   "metadata": {
    "collapsed": false,
    "ExecuteTime": {
     "end_time": "2024-11-18T20:33:49.402850Z",
     "start_time": "2024-11-18T20:33:49.384854Z"
    }
   },
   "id": "e68e4464d82e938b",
   "execution_count": 1
  },
  {
   "cell_type": "markdown",
   "source": [
    "Informacje o danych oraz Statystyki opisowe"
   ],
   "metadata": {
    "collapsed": false
   },
   "id": "c30e1b46887befd0"
  },
  {
   "cell_type": "code",
   "outputs": [
    {
     "name": "stdout",
     "output_type": "stream",
     "text": [
      "<class 'pandas.core.frame.DataFrame'>\n",
      "RangeIndex: 4746 entries, 0 to 4745\n",
      "Data columns (total 12 columns):\n",
      " #   Column             Non-Null Count  Dtype \n",
      "---  ------             --------------  ----- \n",
      " 0   Posted On          4746 non-null   object\n",
      " 1   BHK                4746 non-null   int64 \n",
      " 2   Rent               4746 non-null   int64 \n",
      " 3   Size               4746 non-null   int64 \n",
      " 4   Floor              4746 non-null   object\n",
      " 5   Area Type          4746 non-null   object\n",
      " 6   Area Locality      4746 non-null   object\n",
      " 7   City               4746 non-null   object\n",
      " 8   Furnishing Status  4746 non-null   object\n",
      " 9   Tenant Preferred   4746 non-null   object\n",
      " 10  Bathroom           4746 non-null   int64 \n",
      " 11  Point of Contact   4746 non-null   object\n",
      "dtypes: int64(4), object(8)\n",
      "memory usage: 445.1+ KB\n"
     ]
    },
    {
     "data": {
      "text/plain": "               BHK          Rent         Size     Bathroom\ncount  4746.000000  4.746000e+03  4746.000000  4746.000000\nmean      2.083860  3.499345e+04   967.490729     1.965866\nstd       0.832256  7.810641e+04   634.202328     0.884532\nmin       1.000000  1.200000e+03    10.000000     1.000000\n25%       2.000000  1.000000e+04   550.000000     1.000000\n50%       2.000000  1.600000e+04   850.000000     2.000000\n75%       3.000000  3.300000e+04  1200.000000     2.000000\nmax       6.000000  3.500000e+06  8000.000000    10.000000",
      "text/html": "<div>\n<style scoped>\n    .dataframe tbody tr th:only-of-type {\n        vertical-align: middle;\n    }\n\n    .dataframe tbody tr th {\n        vertical-align: top;\n    }\n\n    .dataframe thead th {\n        text-align: right;\n    }\n</style>\n<table border=\"1\" class=\"dataframe\">\n  <thead>\n    <tr style=\"text-align: right;\">\n      <th></th>\n      <th>BHK</th>\n      <th>Rent</th>\n      <th>Size</th>\n      <th>Bathroom</th>\n    </tr>\n  </thead>\n  <tbody>\n    <tr>\n      <th>count</th>\n      <td>4746.000000</td>\n      <td>4.746000e+03</td>\n      <td>4746.000000</td>\n      <td>4746.000000</td>\n    </tr>\n    <tr>\n      <th>mean</th>\n      <td>2.083860</td>\n      <td>3.499345e+04</td>\n      <td>967.490729</td>\n      <td>1.965866</td>\n    </tr>\n    <tr>\n      <th>std</th>\n      <td>0.832256</td>\n      <td>7.810641e+04</td>\n      <td>634.202328</td>\n      <td>0.884532</td>\n    </tr>\n    <tr>\n      <th>min</th>\n      <td>1.000000</td>\n      <td>1.200000e+03</td>\n      <td>10.000000</td>\n      <td>1.000000</td>\n    </tr>\n    <tr>\n      <th>25%</th>\n      <td>2.000000</td>\n      <td>1.000000e+04</td>\n      <td>550.000000</td>\n      <td>1.000000</td>\n    </tr>\n    <tr>\n      <th>50%</th>\n      <td>2.000000</td>\n      <td>1.600000e+04</td>\n      <td>850.000000</td>\n      <td>2.000000</td>\n    </tr>\n    <tr>\n      <th>75%</th>\n      <td>3.000000</td>\n      <td>3.300000e+04</td>\n      <td>1200.000000</td>\n      <td>2.000000</td>\n    </tr>\n    <tr>\n      <th>max</th>\n      <td>6.000000</td>\n      <td>3.500000e+06</td>\n      <td>8000.000000</td>\n      <td>10.000000</td>\n    </tr>\n  </tbody>\n</table>\n</div>"
     },
     "execution_count": 2,
     "metadata": {},
     "output_type": "execute_result"
    }
   ],
   "source": [
    "df.info()\n",
    "df.describe()"
   ],
   "metadata": {
    "collapsed": false,
    "ExecuteTime": {
     "end_time": "2024-11-18T20:33:49.428346Z",
     "start_time": "2024-11-18T20:33:49.413397Z"
    }
   },
   "id": "c37333c0fab923e3",
   "execution_count": 2
  },
  {
   "cell_type": "markdown",
   "source": [
    "Sprawdzenie brakujących wartości"
   ],
   "metadata": {
    "collapsed": false
   },
   "id": "ec74942bfaf23216"
  },
  {
   "cell_type": "raw",
   "source": [
    "df.isnull().sum()"
   ],
   "metadata": {
    "collapsed": false
   },
   "id": "788136e83f5b8e20"
  },
  {
   "cell_type": "markdown",
   "source": [
    "Przykład kodowania one-hot dla kolumny 'Furnishing Status'"
   ],
   "metadata": {
    "collapsed": false
   },
   "id": "1ef271913f12d783"
  },
  {
   "cell_type": "code",
   "outputs": [],
   "source": [
    "df = pd.get_dummies(df, columns=['Furnishing Status'], drop_first=True)\n"
   ],
   "metadata": {
    "collapsed": false,
    "ExecuteTime": {
     "end_time": "2024-11-18T20:33:49.433824Z",
     "start_time": "2024-11-18T20:33:49.429353Z"
    }
   },
   "id": "c4c5510717efb697",
   "execution_count": 3
  },
  {
   "cell_type": "markdown",
   "source": [
    "Kolumna 'Floor' ma format np. '2 out of 5'. Możemy ją podzielić na dwie kolumny: 'Floor Level' i 'Total Floors'."
   ],
   "metadata": {
    "collapsed": false
   },
   "id": "d780092ac6bec5a9"
  },
  {
   "cell_type": "code",
   "outputs": [],
   "source": [
    "def split_floor(x):\n",
    "    parts = x.split(' out of ')\n",
    "    floor_level = parts[0]\n",
    "    total_floors = parts[1] if len(parts) > 1 else None\n",
    "    return pd.Series([floor_level, total_floors])\n",
    "\n",
    "df[['Floor Level', 'Total Floors']] = df['Floor'].apply(split_floor)\n",
    "\n",
    "df.drop('Floor', axis=1, inplace=True)\n"
   ],
   "metadata": {
    "collapsed": false,
    "ExecuteTime": {
     "end_time": "2024-11-18T20:33:49.693855Z",
     "start_time": "2024-11-18T20:33:49.433824Z"
    }
   },
   "id": "c0880f11b59727d6",
   "execution_count": 4
  },
  {
   "cell_type": "markdown",
   "source": [
    "Zamień wartości tekstowe na numeryczne, np. 'Ground' na 0."
   ],
   "metadata": {
    "collapsed": false
   },
   "id": "e83cdb8f989074df"
  },
  {
   "cell_type": "code",
   "outputs": [],
   "source": [
    "df['Floor Level'] = df['Floor Level'].replace({'Ground': 0, 'Lower Basement': -1, 'Upper Basement': -2})\n",
    "df['Floor Level'] = pd.to_numeric(df['Floor Level'], errors='coerce')\n",
    "\n",
    "df['Total Floors'] = pd.to_numeric(df['Total Floors'], errors='coerce')"
   ],
   "metadata": {
    "collapsed": false,
    "ExecuteTime": {
     "end_time": "2024-11-18T20:33:49.702017Z",
     "start_time": "2024-11-18T20:33:49.694864Z"
    }
   },
   "id": "35a2dbf046a7d660",
   "execution_count": 5
  },
  {
   "cell_type": "markdown",
   "source": [
    "Usunięcie jednostki 'sqft' i przekonwertanie jej na typ numeryczny."
   ],
   "metadata": {
    "collapsed": false
   },
   "id": "c87dc9cc6328d362"
  },
  {
   "cell_type": "code",
   "outputs": [
    {
     "name": "stdout",
     "output_type": "stream",
     "text": [
      "int64\n",
      "0\n"
     ]
    }
   ],
   "source": [
    "print(df['Size'].dtype)\n",
    "print(df['Size'].isnull().sum())\n",
    "df['Size'] = df['Size'].astype(str)\n",
    "import numpy as np\n",
    "\n",
    "# Zamień 'nan' na NaN z numpy\n",
    "df['Size'] = df['Size'].replace('nan', np.nan)\n",
    "\n",
    "# Usuń ' sqft' i przekonwertuj na float\n",
    "df['Size'] = df['Size'].str.replace(' sqft', '')\n",
    "df['Size'] = df['Size'].astype(float)\n"
   ],
   "metadata": {
    "collapsed": false,
    "ExecuteTime": {
     "end_time": "2024-11-18T20:33:49.708816Z",
     "start_time": "2024-11-18T20:33:49.702017Z"
    }
   },
   "id": "11a699432c95435c",
   "execution_count": 6
  },
  {
   "cell_type": "markdown",
   "source": [
    "Przekształcenie kolumny Posted On"
   ],
   "metadata": {
    "collapsed": false
   },
   "id": "3af9a8bee6ff690e"
  },
  {
   "cell_type": "code",
   "outputs": [],
   "source": [
    "df['Posted On'] = pd.to_datetime(df['Posted On'], format='%Y-%m-%d')"
   ],
   "metadata": {
    "collapsed": false,
    "ExecuteTime": {
     "end_time": "2024-11-18T20:33:49.714338Z",
     "start_time": "2024-11-18T20:33:49.709825Z"
    }
   },
   "id": "c92cdd4f9bdda05d",
   "execution_count": 7
  },
  {
   "cell_type": "markdown",
   "source": [
    "Kolumny takie jak 'Area Locality' i 'Point of Contact' mogą być usunięte"
   ],
   "metadata": {
    "collapsed": false
   },
   "id": "12ec9dc2858670f8"
  },
  {
   "cell_type": "code",
   "outputs": [],
   "source": [
    "df.drop(['Area Locality', 'Point of Contact'], axis=1, inplace=True)"
   ],
   "metadata": {
    "collapsed": false,
    "ExecuteTime": {
     "end_time": "2024-11-18T20:33:49.718187Z",
     "start_time": "2024-11-18T20:33:49.715397Z"
    }
   },
   "id": "ed37b3a8783e00e1",
   "execution_count": 8
  },
  {
   "cell_type": "markdown",
   "source": [
    "Przekształcenie innych kolumn kategorycznych"
   ],
   "metadata": {
    "collapsed": false
   },
   "id": "b485500430efba68"
  },
  {
   "cell_type": "code",
   "outputs": [],
   "source": [
    "categorical_cols = ['Area Type', 'City', 'Tenant Preferred']\n",
    "df = pd.get_dummies(df, columns=categorical_cols, drop_first=True)"
   ],
   "metadata": {
    "collapsed": false,
    "ExecuteTime": {
     "end_time": "2024-11-18T20:33:49.724704Z",
     "start_time": "2024-11-18T20:33:49.718187Z"
    }
   },
   "id": "e0da46cda9b65ab8",
   "execution_count": 9
  },
  {
   "cell_type": "markdown",
   "source": [
    "Podział danych na cechy (X) i etykietę (y):"
   ],
   "metadata": {
    "collapsed": false
   },
   "id": "d64b2669dff96762"
  },
  {
   "cell_type": "code",
   "outputs": [],
   "source": [
    "# Zmienna docelowa\n",
    "y = df['Rent']\n",
    "\n",
    "# Cechy\n",
    "X = df.drop('Rent', axis=1)"
   ],
   "metadata": {
    "collapsed": false,
    "ExecuteTime": {
     "end_time": "2024-11-18T20:33:49.728211Z",
     "start_time": "2024-11-18T20:33:49.725211Z"
    }
   },
   "id": "64274ceb8eefc450",
   "execution_count": 10
  },
  {
   "cell_type": "markdown",
   "source": [
    "Podział danych na zbiory treningowe i testowe:"
   ],
   "metadata": {
    "collapsed": false
   },
   "id": "df9017ff548a482d"
  },
  {
   "cell_type": "code",
   "outputs": [],
   "source": [
    "from sklearn.model_selection import train_test_split\n",
    "\n",
    "X_train, X_test, y_train, y_test = train_test_split(X, y, test_size=0.3, random_state=42)"
   ],
   "metadata": {
    "collapsed": false,
    "ExecuteTime": {
     "end_time": "2024-11-18T20:33:49.833536Z",
     "start_time": "2024-11-18T20:33:49.729219Z"
    }
   },
   "id": "26f2dafbe8aae99f",
   "execution_count": 11
  },
  {
   "cell_type": "markdown",
   "source": [
    "Zapis pełnego, oczyszczonego zestawu danych"
   ],
   "metadata": {
    "collapsed": false
   },
   "id": "a811d8c43d7bbfe3"
  },
  {
   "cell_type": "code",
   "outputs": [],
   "source": [
    "# Zapis oczyszczonego zestawu danych do pliku CSV\n",
    "df.to_csv('data/cleaned_data.csv', index=False)"
   ],
   "metadata": {
    "collapsed": false,
    "ExecuteTime": {
     "end_time": "2024-11-18T20:45:30.635678Z",
     "start_time": "2024-11-18T20:45:30.615143Z"
    }
   },
   "id": "fbc123a5a58d43bc",
   "execution_count": 15
  },
  {
   "cell_type": "markdown",
   "source": [
    "Zapis zbiorów treningowego i testowego"
   ],
   "metadata": {
    "collapsed": false
   },
   "id": "4bb20863f914de58"
  },
  {
   "cell_type": "code",
   "outputs": [],
   "source": [
    "# Zapis zbioru treningowego\n",
    "X_train.to_csv('data/X_train.csv', index=False)\n",
    "y_train.to_csv('data/y_train.csv', index=False)\n",
    "\n",
    "# Zapis zbioru testowego\n",
    "X_test.to_csv('data/X_test.csv', index=False)\n",
    "y_test.to_csv('data/y_test.csv', index=False)"
   ],
   "metadata": {
    "collapsed": false,
    "ExecuteTime": {
     "end_time": "2024-11-18T20:45:03.309218Z",
     "start_time": "2024-11-18T20:45:03.286752Z"
    }
   },
   "id": "398a91e590fbc116",
   "execution_count": 13
  }
 ],
 "metadata": {
  "kernelspec": {
   "display_name": "Python 3",
   "language": "python",
   "name": "python3"
  },
  "language_info": {
   "codemirror_mode": {
    "name": "ipython",
    "version": 2
   },
   "file_extension": ".py",
   "mimetype": "text/x-python",
   "name": "python",
   "nbconvert_exporter": "python",
   "pygments_lexer": "ipython2",
   "version": "2.7.6"
  }
 },
 "nbformat": 4,
 "nbformat_minor": 5
}
