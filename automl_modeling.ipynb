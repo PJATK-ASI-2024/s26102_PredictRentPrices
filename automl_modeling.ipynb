{
 "cells": [
  {
   "cell_type": "code",
   "outputs": [
    {
     "name": "stderr",
     "output_type": "stream",
     "text": [
      "The syntax of the command is incorrect.\n"
     ]
    }
   ],
   "source": [
    "!pip install pandas"
   ],
   "metadata": {
    "collapsed": false,
    "ExecuteTime": {
     "end_time": "2024-11-26T00:53:03.718472Z",
     "start_time": "2024-11-26T00:53:03.697300Z"
    }
   },
   "id": "82342b14c798fc88",
   "execution_count": 3
  },
  {
   "cell_type": "code",
   "outputs": [],
   "source": [
    "!pip uninstall pandas-profiling\n",
    "!pip install ydata-profiling"
   ],
   "metadata": {
    "collapsed": false,
    "is_executing": true
   },
   "id": "e4c301852270e645",
   "execution_count": null
  },
  {
   "cell_type": "markdown",
   "source": [
    "Import niezbędnych bibliotek"
   ],
   "metadata": {
    "collapsed": false
   },
   "id": "90dd84d1d1d16c8c"
  },
  {
   "cell_type": "code",
   "outputs": [],
   "source": [
    "import pandas as pd\n",
    "import numpy as np"
   ],
   "metadata": {
    "collapsed": false,
    "ExecuteTime": {
     "end_time": "2024-11-26T00:54:42.734174Z",
     "start_time": "2024-11-26T00:54:40.950702Z"
    }
   },
   "id": "69bcbbea97ea184d",
   "execution_count": 7
  },
  {
   "cell_type": "markdown",
   "source": [
    "Wczytaj oczyszczone dane i wyświetl pierwsze kilka wierszy"
   ],
   "metadata": {
    "collapsed": false
   },
   "id": "826ab2f01e8d015e"
  },
  {
   "cell_type": "code",
   "execution_count": 8,
   "id": "initial_id",
   "metadata": {
    "collapsed": true,
    "ExecuteTime": {
     "end_time": "2024-11-26T00:54:50.936898Z",
     "start_time": "2024-11-26T00:54:50.902345Z"
    }
   },
   "outputs": [
    {
     "data": {
      "text/plain": "    Posted On  BHK   Rent    Size  Bathroom  Furnishing Status_Semi-Furnished  \\\n0  2022-05-18    2  10000  1100.0         2                             False   \n1  2022-05-13    2  20000   800.0         1                              True   \n2  2022-05-16    2  17000  1000.0         1                              True   \n3  2022-07-04    2  10000   800.0         1                             False   \n4  2022-05-09    2   7500   850.0         1                             False   \n\n   Furnishing Status_Unfurnished  Floor Level  Total Floors  \\\n0                           True            0           2.0   \n1                          False            1           3.0   \n2                          False            1           3.0   \n3                           True            1           2.0   \n4                           True            1           2.0   \n\n   Area Type_Carpet Area  ...  City_Delhi  City_Hyderabad  City_Kolkata  \\\n0                  False  ...       False           False          True   \n1                  False  ...       False           False          True   \n2                  False  ...       False           False          True   \n3                  False  ...       False           False          True   \n4                   True  ...       False           False          True   \n\n   City_Mumbai  Tenant Preferred_Bachelors/Family  Tenant Preferred_Family  \\\n0        False                               True                    False   \n1        False                               True                    False   \n2        False                               True                    False   \n3        False                               True                    False   \n4        False                              False                    False   \n\n   Rent_Log     City  Furnishing Status  Tenant Preferred  \n0  9.210440  Kolkata        Unfurnished  Bachelors/Family  \n1  9.903538  Kolkata     Semi-Furnished  Bachelors/Family  \n2  9.741027  Kolkata     Semi-Furnished  Bachelors/Family  \n3  9.210440  Kolkata        Unfurnished  Bachelors/Family  \n4  8.922792  Kolkata        Unfurnished         Bachelors  \n\n[5 rows x 22 columns]",
      "text/html": "<div>\n<style scoped>\n    .dataframe tbody tr th:only-of-type {\n        vertical-align: middle;\n    }\n\n    .dataframe tbody tr th {\n        vertical-align: top;\n    }\n\n    .dataframe thead th {\n        text-align: right;\n    }\n</style>\n<table border=\"1\" class=\"dataframe\">\n  <thead>\n    <tr style=\"text-align: right;\">\n      <th></th>\n      <th>Posted On</th>\n      <th>BHK</th>\n      <th>Rent</th>\n      <th>Size</th>\n      <th>Bathroom</th>\n      <th>Furnishing Status_Semi-Furnished</th>\n      <th>Furnishing Status_Unfurnished</th>\n      <th>Floor Level</th>\n      <th>Total Floors</th>\n      <th>Area Type_Carpet Area</th>\n      <th>...</th>\n      <th>City_Delhi</th>\n      <th>City_Hyderabad</th>\n      <th>City_Kolkata</th>\n      <th>City_Mumbai</th>\n      <th>Tenant Preferred_Bachelors/Family</th>\n      <th>Tenant Preferred_Family</th>\n      <th>Rent_Log</th>\n      <th>City</th>\n      <th>Furnishing Status</th>\n      <th>Tenant Preferred</th>\n    </tr>\n  </thead>\n  <tbody>\n    <tr>\n      <th>0</th>\n      <td>2022-05-18</td>\n      <td>2</td>\n      <td>10000</td>\n      <td>1100.0</td>\n      <td>2</td>\n      <td>False</td>\n      <td>True</td>\n      <td>0</td>\n      <td>2.0</td>\n      <td>False</td>\n      <td>...</td>\n      <td>False</td>\n      <td>False</td>\n      <td>True</td>\n      <td>False</td>\n      <td>True</td>\n      <td>False</td>\n      <td>9.210440</td>\n      <td>Kolkata</td>\n      <td>Unfurnished</td>\n      <td>Bachelors/Family</td>\n    </tr>\n    <tr>\n      <th>1</th>\n      <td>2022-05-13</td>\n      <td>2</td>\n      <td>20000</td>\n      <td>800.0</td>\n      <td>1</td>\n      <td>True</td>\n      <td>False</td>\n      <td>1</td>\n      <td>3.0</td>\n      <td>False</td>\n      <td>...</td>\n      <td>False</td>\n      <td>False</td>\n      <td>True</td>\n      <td>False</td>\n      <td>True</td>\n      <td>False</td>\n      <td>9.903538</td>\n      <td>Kolkata</td>\n      <td>Semi-Furnished</td>\n      <td>Bachelors/Family</td>\n    </tr>\n    <tr>\n      <th>2</th>\n      <td>2022-05-16</td>\n      <td>2</td>\n      <td>17000</td>\n      <td>1000.0</td>\n      <td>1</td>\n      <td>True</td>\n      <td>False</td>\n      <td>1</td>\n      <td>3.0</td>\n      <td>False</td>\n      <td>...</td>\n      <td>False</td>\n      <td>False</td>\n      <td>True</td>\n      <td>False</td>\n      <td>True</td>\n      <td>False</td>\n      <td>9.741027</td>\n      <td>Kolkata</td>\n      <td>Semi-Furnished</td>\n      <td>Bachelors/Family</td>\n    </tr>\n    <tr>\n      <th>3</th>\n      <td>2022-07-04</td>\n      <td>2</td>\n      <td>10000</td>\n      <td>800.0</td>\n      <td>1</td>\n      <td>False</td>\n      <td>True</td>\n      <td>1</td>\n      <td>2.0</td>\n      <td>False</td>\n      <td>...</td>\n      <td>False</td>\n      <td>False</td>\n      <td>True</td>\n      <td>False</td>\n      <td>True</td>\n      <td>False</td>\n      <td>9.210440</td>\n      <td>Kolkata</td>\n      <td>Unfurnished</td>\n      <td>Bachelors/Family</td>\n    </tr>\n    <tr>\n      <th>4</th>\n      <td>2022-05-09</td>\n      <td>2</td>\n      <td>7500</td>\n      <td>850.0</td>\n      <td>1</td>\n      <td>False</td>\n      <td>True</td>\n      <td>1</td>\n      <td>2.0</td>\n      <td>True</td>\n      <td>...</td>\n      <td>False</td>\n      <td>False</td>\n      <td>True</td>\n      <td>False</td>\n      <td>False</td>\n      <td>False</td>\n      <td>8.922792</td>\n      <td>Kolkata</td>\n      <td>Unfurnished</td>\n      <td>Bachelors</td>\n    </tr>\n  </tbody>\n</table>\n<p>5 rows × 22 columns</p>\n</div>"
     },
     "execution_count": 8,
     "metadata": {},
     "output_type": "execute_result"
    }
   ],
   "source": [
    "df = pd.read_csv('data/cleaned_data_no_outliers.csv')\n",
    "df.head()"
   ]
  },
  {
   "cell_type": "markdown",
   "source": [
    "Wykrozystanie pandas profiling oraz sweetviz do automatycznej analizy"
   ],
   "metadata": {
    "collapsed": false
   },
   "id": "331d6b06c7bd982a"
  },
  {
   "cell_type": "code",
   "outputs": [
    {
     "name": "stdout",
     "output_type": "stream",
     "text": [
      "Collecting pandas-profiling\n",
      "  Using cached pandas_profiling-3.2.0-py2.py3-none-any.whl.metadata (21 kB)\n",
      "Collecting joblib~=1.1.0 (from pandas-profiling)\n",
      "  Using cached joblib-1.1.1-py2.py3-none-any.whl.metadata (5.2 kB)\n",
      "Collecting scipy>=1.4.1 (from pandas-profiling)\n",
      "  Downloading scipy-1.14.1-cp312-cp312-win_amd64.whl.metadata (60 kB)\n",
      "Requirement already satisfied: pandas!=1.0.0,!=1.0.1,!=1.0.2,!=1.1.0,>=0.25.3 in c:\\users\\shind\\documents\\github\\s26102_predictrentprices\\.venv\\lib\\site-packages (from pandas-profiling) (2.2.3)\n",
      "Collecting matplotlib>=3.2.0 (from pandas-profiling)\n",
      "  Using cached matplotlib-3.9.2-cp312-cp312-win_amd64.whl.metadata (11 kB)\n",
      "Requirement already satisfied: pydantic>=1.8.1 in c:\\users\\shind\\appdata\\local\\packages\\pythonsoftwarefoundation.python.3.12_qbz5n2kfra8p0\\localcache\\local-packages\\python312\\site-packages (from pandas-profiling) (1.10.19)\n",
      "Requirement already satisfied: PyYAML>=5.0.0 in c:\\users\\shind\\documents\\github\\s26102_predictrentprices\\.venv\\lib\\site-packages (from pandas-profiling) (6.0.2)\n",
      "Requirement already satisfied: jinja2>=2.11.1 in c:\\users\\shind\\documents\\github\\s26102_predictrentprices\\.venv\\lib\\site-packages (from pandas-profiling) (3.1.4)\n",
      "Collecting markupsafe~=2.1.1 (from pandas-profiling)\n",
      "  Using cached MarkupSafe-2.1.5-cp312-cp312-win_amd64.whl.metadata (3.1 kB)\n",
      "Collecting visions==0.7.4 (from visions[type_image_path]==0.7.4->pandas-profiling)\n",
      "  Using cached visions-0.7.4-py3-none-any.whl.metadata (5.9 kB)\n",
      "Requirement already satisfied: numpy>=1.16.0 in c:\\users\\shind\\appdata\\local\\packages\\pythonsoftwarefoundation.python.3.12_qbz5n2kfra8p0\\localcache\\local-packages\\python312\\site-packages (from pandas-profiling) (1.26.4)\n",
      "Collecting htmlmin>=0.1.12 (from pandas-profiling)\n",
      "  Using cached htmlmin-0.1.12-py3-none-any.whl\n",
      "Collecting missingno>=0.4.2 (from pandas-profiling)\n",
      "  Using cached missingno-0.5.2-py3-none-any.whl.metadata (639 bytes)\n",
      "Collecting phik>=0.11.1 (from pandas-profiling)\n",
      "  Using cached phik-0.12.4-cp312-cp312-win_amd64.whl.metadata (5.6 kB)\n",
      "Collecting tangled-up-in-unicode==0.2.0 (from pandas-profiling)\n",
      "  Using cached tangled_up_in_unicode-0.2.0-py3-none-any.whl.metadata (4.8 kB)\n",
      "Requirement already satisfied: requests>=2.24.0 in c:\\users\\shind\\documents\\github\\s26102_predictrentprices\\.venv\\lib\\site-packages (from pandas-profiling) (2.32.3)\n",
      "Collecting tqdm>=4.48.2 (from pandas-profiling)\n",
      "  Downloading tqdm-4.67.1-py3-none-any.whl.metadata (57 kB)\n",
      "Collecting seaborn>=0.10.1 (from pandas-profiling)\n",
      "  Using cached seaborn-0.13.2-py3-none-any.whl.metadata (5.4 kB)\n",
      "Collecting multimethod>=1.4 (from pandas-profiling)\n",
      "  Using cached multimethod-1.12-py3-none-any.whl.metadata (9.6 kB)\n",
      "Requirement already satisfied: attrs>=19.3.0 in c:\\users\\shind\\documents\\github\\s26102_predictrentprices\\.venv\\lib\\site-packages (from visions==0.7.4->visions[type_image_path]==0.7.4->pandas-profiling) (24.2.0)\n",
      "Collecting networkx>=2.4 (from visions==0.7.4->visions[type_image_path]==0.7.4->pandas-profiling)\n",
      "  Using cached networkx-3.4.2-py3-none-any.whl.metadata (6.3 kB)\n",
      "Collecting imagehash (from visions[type_image_path]==0.7.4->pandas-profiling)\n",
      "  Using cached ImageHash-4.3.1-py2.py3-none-any.whl.metadata (8.0 kB)\n",
      "Collecting Pillow (from visions[type_image_path]==0.7.4->pandas-profiling)\n",
      "  Using cached pillow-11.0.0-cp312-cp312-win_amd64.whl.metadata (9.3 kB)\n",
      "Collecting contourpy>=1.0.1 (from matplotlib>=3.2.0->pandas-profiling)\n",
      "  Downloading contourpy-1.3.1-cp312-cp312-win_amd64.whl.metadata (5.4 kB)\n",
      "Collecting cycler>=0.10 (from matplotlib>=3.2.0->pandas-profiling)\n",
      "  Using cached cycler-0.12.1-py3-none-any.whl.metadata (3.8 kB)\n",
      "Collecting fonttools>=4.22.0 (from matplotlib>=3.2.0->pandas-profiling)\n",
      "  Downloading fonttools-4.55.0-cp312-cp312-win_amd64.whl.metadata (167 kB)\n",
      "Collecting kiwisolver>=1.3.1 (from matplotlib>=3.2.0->pandas-profiling)\n",
      "  Using cached kiwisolver-1.4.7-cp312-cp312-win_amd64.whl.metadata (6.4 kB)\n",
      "Requirement already satisfied: packaging>=20.0 in c:\\users\\shind\\documents\\github\\s26102_predictrentprices\\.venv\\lib\\site-packages (from matplotlib>=3.2.0->pandas-profiling) (24.2)\n",
      "Collecting pyparsing>=2.3.1 (from matplotlib>=3.2.0->pandas-profiling)\n",
      "  Using cached pyparsing-3.2.0-py3-none-any.whl.metadata (5.0 kB)\n",
      "Requirement already satisfied: python-dateutil>=2.7 in c:\\users\\shind\\appdata\\local\\packages\\pythonsoftwarefoundation.python.3.12_qbz5n2kfra8p0\\localcache\\local-packages\\python312\\site-packages (from matplotlib>=3.2.0->pandas-profiling) (2.9.0.post0)\n",
      "Requirement already satisfied: pytz>=2020.1 in c:\\users\\shind\\documents\\github\\s26102_predictrentprices\\.venv\\lib\\site-packages (from pandas!=1.0.0,!=1.0.1,!=1.0.2,!=1.1.0,>=0.25.3->pandas-profiling) (2024.2)\n",
      "Requirement already satisfied: tzdata>=2022.7 in c:\\users\\shind\\documents\\github\\s26102_predictrentprices\\.venv\\lib\\site-packages (from pandas!=1.0.0,!=1.0.1,!=1.0.2,!=1.1.0,>=0.25.3->pandas-profiling) (2024.2)\n",
      "Requirement already satisfied: typing-extensions>=4.2.0 in c:\\users\\shind\\appdata\\local\\packages\\pythonsoftwarefoundation.python.3.12_qbz5n2kfra8p0\\localcache\\local-packages\\python312\\site-packages (from pydantic>=1.8.1->pandas-profiling) (4.12.2)\n",
      "Requirement already satisfied: charset-normalizer<4,>=2 in c:\\users\\shind\\documents\\github\\s26102_predictrentprices\\.venv\\lib\\site-packages (from requests>=2.24.0->pandas-profiling) (3.4.0)\n",
      "Requirement already satisfied: idna<4,>=2.5 in c:\\users\\shind\\documents\\github\\s26102_predictrentprices\\.venv\\lib\\site-packages (from requests>=2.24.0->pandas-profiling) (3.10)\n",
      "Requirement already satisfied: urllib3<3,>=1.21.1 in c:\\users\\shind\\documents\\github\\s26102_predictrentprices\\.venv\\lib\\site-packages (from requests>=2.24.0->pandas-profiling) (2.2.3)\n",
      "Requirement already satisfied: certifi>=2017.4.17 in c:\\users\\shind\\documents\\github\\s26102_predictrentprices\\.venv\\lib\\site-packages (from requests>=2.24.0->pandas-profiling) (2024.8.30)\n",
      "Requirement already satisfied: colorama in c:\\users\\shind\\documents\\github\\s26102_predictrentprices\\.venv\\lib\\site-packages (from tqdm>=4.48.2->pandas-profiling) (0.4.6)\n",
      "Requirement already satisfied: six>=1.5 in c:\\users\\shind\\appdata\\local\\packages\\pythonsoftwarefoundation.python.3.12_qbz5n2kfra8p0\\localcache\\local-packages\\python312\\site-packages (from python-dateutil>=2.7->matplotlib>=3.2.0->pandas-profiling) (1.16.0)\n",
      "Collecting PyWavelets (from imagehash->visions[type_image_path]==0.7.4->pandas-profiling)\n",
      "  Using cached pywavelets-1.7.0-cp312-cp312-win_amd64.whl.metadata (9.0 kB)\n",
      "Using cached pandas_profiling-3.2.0-py2.py3-none-any.whl (262 kB)\n",
      "Using cached tangled_up_in_unicode-0.2.0-py3-none-any.whl (4.7 MB)\n",
      "Using cached visions-0.7.4-py3-none-any.whl (102 kB)\n",
      "Using cached joblib-1.1.1-py2.py3-none-any.whl (309 kB)\n",
      "Using cached MarkupSafe-2.1.5-cp312-cp312-win_amd64.whl (17 kB)\n",
      "Using cached matplotlib-3.9.2-cp312-cp312-win_amd64.whl (7.8 MB)\n",
      "Using cached missingno-0.5.2-py3-none-any.whl (8.7 kB)\n",
      "Using cached multimethod-1.12-py3-none-any.whl (10 kB)\n",
      "Using cached phik-0.12.4-cp312-cp312-win_amd64.whl (666 kB)\n",
      "Downloading scipy-1.14.1-cp312-cp312-win_amd64.whl (44.5 MB)\n",
      "   ---------------------------------------- 0.0/44.5 MB ? eta -:--:--\n",
      "   ----- ---------------------------------- 6.0/44.5 MB 30.7 MB/s eta 0:00:02\n",
      "   -------------- ------------------------- 16.0/44.5 MB 38.7 MB/s eta 0:00:01\n",
      "   ------------------------ --------------- 26.7/44.5 MB 42.4 MB/s eta 0:00:01\n",
      "   --------------------------------- ------ 37.5/44.5 MB 45.0 MB/s eta 0:00:01\n",
      "   ---------------------------------------  44.3/44.5 MB 42.1 MB/s eta 0:00:01\n",
      "   ---------------------------------------- 44.5/44.5 MB 38.8 MB/s eta 0:00:00\n",
      "Using cached seaborn-0.13.2-py3-none-any.whl (294 kB)\n",
      "Downloading tqdm-4.67.1-py3-none-any.whl (78 kB)\n",
      "Downloading contourpy-1.3.1-cp312-cp312-win_amd64.whl (220 kB)\n",
      "Using cached cycler-0.12.1-py3-none-any.whl (8.3 kB)\n",
      "Downloading fonttools-4.55.0-cp312-cp312-win_amd64.whl (2.2 MB)\n",
      "   ---------------------------------------- 0.0/2.2 MB ? eta -:--:--\n",
      "   ---------------------------------------- 2.2/2.2 MB 41.3 MB/s eta 0:00:00\n",
      "Using cached kiwisolver-1.4.7-cp312-cp312-win_amd64.whl (55 kB)\n",
      "Using cached networkx-3.4.2-py3-none-any.whl (1.7 MB)\n",
      "Using cached pillow-11.0.0-cp312-cp312-win_amd64.whl (2.6 MB)\n",
      "Using cached pyparsing-3.2.0-py3-none-any.whl (106 kB)\n",
      "Using cached ImageHash-4.3.1-py2.py3-none-any.whl (296 kB)\n",
      "Using cached pywavelets-1.7.0-cp312-cp312-win_amd64.whl (4.2 MB)\n",
      "Installing collected packages: htmlmin, tqdm, tangled-up-in-unicode, scipy, PyWavelets, pyparsing, Pillow, networkx, multimethod, markupsafe, kiwisolver, joblib, fonttools, cycler, contourpy, matplotlib, imagehash, visions, seaborn, phik, missingno, pandas-profiling\n",
      "  Attempting uninstall: markupsafe\n",
      "    Found existing installation: MarkupSafe 3.0.2\n",
      "    Uninstalling MarkupSafe-3.0.2:\n",
      "      Successfully uninstalled MarkupSafe-3.0.2\n",
      "Successfully installed Pillow-11.0.0 PyWavelets-1.7.0 contourpy-1.3.1 cycler-0.12.1 fonttools-4.55.0 htmlmin-0.1.12 imagehash-4.3.1 joblib-1.1.1 kiwisolver-1.4.7 markupsafe-2.1.5 matplotlib-3.9.2 missingno-0.5.2 multimethod-1.12 networkx-3.4.2 pandas-profiling-3.2.0 phik-0.12.4 pyparsing-3.2.0 scipy-1.14.1 seaborn-0.13.2 tangled-up-in-unicode-0.2.0 tqdm-4.67.1 visions-0.7.4\n"
     ]
    },
    {
     "name": "stderr",
     "output_type": "stream",
     "text": [
      "  WARNING: Failed to remove contents in a temporary directory 'C:\\Users\\shind\\Documents\\GitHub\\s26102_PredictRentPrices\\.venv\\Lib\\site-packages\\~arkupsafe'.\n",
      "  You can safely remove it manually.\n"
     ]
    },
    {
     "ename": "ImportError",
     "evalue": "cannot import name 'DataError' from 'pandas.core.base' (C:\\Users\\shind\\Documents\\GitHub\\s26102_PredictRentPrices\\.venv\\Lib\\site-packages\\pandas\\core\\base.py)",
     "output_type": "error",
     "traceback": [
      "\u001B[1;31m---------------------------------------------------------------------------\u001B[0m",
      "\u001B[1;31mImportError\u001B[0m                               Traceback (most recent call last)",
      "Cell \u001B[1;32mIn[9], line 4\u001B[0m\n\u001B[0;32m      1\u001B[0m \u001B[38;5;66;03m# Zainstaluj pandas-profiling, jeśli nie jest zainstalowany\u001B[39;00m\n\u001B[0;32m      2\u001B[0m get_ipython()\u001B[38;5;241m.\u001B[39msystem(\u001B[38;5;124m'\u001B[39m\u001B[38;5;124mpip install pandas-profiling\u001B[39m\u001B[38;5;124m'\u001B[39m)\n\u001B[1;32m----> 4\u001B[0m \u001B[38;5;28;01mfrom\u001B[39;00m \u001B[38;5;21;01mpandas_profiling\u001B[39;00m \u001B[38;5;28;01mimport\u001B[39;00m ProfileReport\n\u001B[0;32m      6\u001B[0m \u001B[38;5;66;03m# Wygeneruj raport profilowania\u001B[39;00m\n\u001B[0;32m      7\u001B[0m profile \u001B[38;5;241m=\u001B[39m ProfileReport(df, title\u001B[38;5;241m=\u001B[39m\u001B[38;5;124m\"\u001B[39m\u001B[38;5;124mRaport Pandas Profiling\u001B[39m\u001B[38;5;124m\"\u001B[39m, explorative\u001B[38;5;241m=\u001B[39m\u001B[38;5;28;01mTrue\u001B[39;00m)\n",
      "File \u001B[1;32m~\\Documents\\GitHub\\s26102_PredictRentPrices\\.venv\\Lib\\site-packages\\pandas_profiling\\__init__.py:6\u001B[0m\n\u001B[0;32m      1\u001B[0m \u001B[38;5;124;03m\"\"\"Main module of pandas-profiling.\u001B[39;00m\n\u001B[0;32m      2\u001B[0m \n\u001B[0;32m      3\u001B[0m \u001B[38;5;124;03m.. include:: ../../README.md\u001B[39;00m\n\u001B[0;32m      4\u001B[0m \u001B[38;5;124;03m\"\"\"\u001B[39;00m\n\u001B[1;32m----> 6\u001B[0m \u001B[38;5;28;01mfrom\u001B[39;00m \u001B[38;5;21;01mpandas_profiling\u001B[39;00m\u001B[38;5;21;01m.\u001B[39;00m\u001B[38;5;21;01mcontroller\u001B[39;00m \u001B[38;5;28;01mimport\u001B[39;00m pandas_decorator\n\u001B[0;32m      7\u001B[0m \u001B[38;5;28;01mfrom\u001B[39;00m \u001B[38;5;21;01mpandas_profiling\u001B[39;00m\u001B[38;5;21;01m.\u001B[39;00m\u001B[38;5;21;01mprofile_report\u001B[39;00m \u001B[38;5;28;01mimport\u001B[39;00m ProfileReport\n\u001B[0;32m      8\u001B[0m \u001B[38;5;28;01mfrom\u001B[39;00m \u001B[38;5;21;01mpandas_profiling\u001B[39;00m\u001B[38;5;21;01m.\u001B[39;00m\u001B[38;5;21;01mversion\u001B[39;00m \u001B[38;5;28;01mimport\u001B[39;00m __version__\n",
      "File \u001B[1;32m~\\Documents\\GitHub\\s26102_PredictRentPrices\\.venv\\Lib\\site-packages\\pandas_profiling\\controller\\pandas_decorator.py:4\u001B[0m\n\u001B[0;32m      1\u001B[0m \u001B[38;5;124;03m\"\"\"This file add the decorator on the DataFrame object.\"\"\"\u001B[39;00m\n\u001B[0;32m      2\u001B[0m \u001B[38;5;28;01mfrom\u001B[39;00m \u001B[38;5;21;01mpandas\u001B[39;00m \u001B[38;5;28;01mimport\u001B[39;00m DataFrame\n\u001B[1;32m----> 4\u001B[0m \u001B[38;5;28;01mfrom\u001B[39;00m \u001B[38;5;21;01mpandas_profiling\u001B[39;00m\u001B[38;5;21;01m.\u001B[39;00m\u001B[38;5;21;01mprofile_report\u001B[39;00m \u001B[38;5;28;01mimport\u001B[39;00m ProfileReport\n\u001B[0;32m      7\u001B[0m \u001B[38;5;28;01mdef\u001B[39;00m \u001B[38;5;21mprofile_report\u001B[39m(df: DataFrame, \u001B[38;5;241m*\u001B[39m\u001B[38;5;241m*\u001B[39mkwargs) \u001B[38;5;241m-\u001B[39m\u001B[38;5;241m>\u001B[39m ProfileReport:\n\u001B[0;32m      8\u001B[0m \u001B[38;5;250m    \u001B[39m\u001B[38;5;124;03m\"\"\"Profile a DataFrame.\u001B[39;00m\n\u001B[0;32m      9\u001B[0m \n\u001B[0;32m     10\u001B[0m \u001B[38;5;124;03m    Args:\u001B[39;00m\n\u001B[1;32m   (...)\u001B[0m\n\u001B[0;32m     15\u001B[0m \u001B[38;5;124;03m        A ProfileReport of the DataFrame.\u001B[39;00m\n\u001B[0;32m     16\u001B[0m \u001B[38;5;124;03m    \"\"\"\u001B[39;00m\n",
      "File \u001B[1;32m~\\Documents\\GitHub\\s26102_PredictRentPrices\\.venv\\Lib\\site-packages\\pandas_profiling\\profile_report.py:15\u001B[0m\n\u001B[0;32m     13\u001B[0m \u001B[38;5;28;01mfrom\u001B[39;00m \u001B[38;5;21;01mpandas_profiling\u001B[39;00m\u001B[38;5;21;01m.\u001B[39;00m\u001B[38;5;21;01mconfig\u001B[39;00m \u001B[38;5;28;01mimport\u001B[39;00m Config, Settings\n\u001B[0;32m     14\u001B[0m \u001B[38;5;28;01mfrom\u001B[39;00m \u001B[38;5;21;01mpandas_profiling\u001B[39;00m\u001B[38;5;21;01m.\u001B[39;00m\u001B[38;5;21;01mexpectations_report\u001B[39;00m \u001B[38;5;28;01mimport\u001B[39;00m ExpectationsReport\n\u001B[1;32m---> 15\u001B[0m \u001B[38;5;28;01mfrom\u001B[39;00m \u001B[38;5;21;01mpandas_profiling\u001B[39;00m\u001B[38;5;21;01m.\u001B[39;00m\u001B[38;5;21;01mmodel\u001B[39;00m\u001B[38;5;21;01m.\u001B[39;00m\u001B[38;5;21;01malerts\u001B[39;00m \u001B[38;5;28;01mimport\u001B[39;00m AlertType\n\u001B[0;32m     16\u001B[0m \u001B[38;5;28;01mfrom\u001B[39;00m \u001B[38;5;21;01mpandas_profiling\u001B[39;00m\u001B[38;5;21;01m.\u001B[39;00m\u001B[38;5;21;01mmodel\u001B[39;00m\u001B[38;5;21;01m.\u001B[39;00m\u001B[38;5;21;01mdescribe\u001B[39;00m \u001B[38;5;28;01mimport\u001B[39;00m describe \u001B[38;5;28;01mas\u001B[39;00m describe_df\n\u001B[0;32m     17\u001B[0m \u001B[38;5;28;01mfrom\u001B[39;00m \u001B[38;5;21;01mpandas_profiling\u001B[39;00m\u001B[38;5;21;01m.\u001B[39;00m\u001B[38;5;21;01mmodel\u001B[39;00m\u001B[38;5;21;01m.\u001B[39;00m\u001B[38;5;21;01msample\u001B[39;00m \u001B[38;5;28;01mimport\u001B[39;00m Sample\n",
      "File \u001B[1;32m~\\Documents\\GitHub\\s26102_PredictRentPrices\\.venv\\Lib\\site-packages\\pandas_profiling\\model\\alerts.py:10\u001B[0m\n\u001B[0;32m      7\u001B[0m \u001B[38;5;28;01mimport\u001B[39;00m \u001B[38;5;21;01mpandas\u001B[39;00m \u001B[38;5;28;01mas\u001B[39;00m \u001B[38;5;21;01mpd\u001B[39;00m\n\u001B[0;32m      9\u001B[0m \u001B[38;5;28;01mfrom\u001B[39;00m \u001B[38;5;21;01mpandas_profiling\u001B[39;00m\u001B[38;5;21;01m.\u001B[39;00m\u001B[38;5;21;01mconfig\u001B[39;00m \u001B[38;5;28;01mimport\u001B[39;00m Settings\n\u001B[1;32m---> 10\u001B[0m \u001B[38;5;28;01mfrom\u001B[39;00m \u001B[38;5;21;01mpandas_profiling\u001B[39;00m\u001B[38;5;21;01m.\u001B[39;00m\u001B[38;5;21;01mmodel\u001B[39;00m\u001B[38;5;21;01m.\u001B[39;00m\u001B[38;5;21;01mcorrelations\u001B[39;00m \u001B[38;5;28;01mimport\u001B[39;00m perform_check_correlation\n\u001B[0;32m     13\u001B[0m \u001B[38;5;129m@unique\u001B[39m\n\u001B[0;32m     14\u001B[0m \u001B[38;5;28;01mclass\u001B[39;00m \u001B[38;5;21;01mAlertType\u001B[39;00m(Enum):\n\u001B[0;32m     15\u001B[0m \u001B[38;5;250m    \u001B[39m\u001B[38;5;124;03m\"\"\"Alert types\"\"\"\u001B[39;00m\n",
      "File \u001B[1;32m~\\Documents\\GitHub\\s26102_PredictRentPrices\\.venv\\Lib\\site-packages\\pandas_profiling\\model\\correlations.py:8\u001B[0m\n\u001B[0;32m      6\u001B[0m \u001B[38;5;28;01mimport\u001B[39;00m \u001B[38;5;21;01mpandas\u001B[39;00m \u001B[38;5;28;01mas\u001B[39;00m \u001B[38;5;21;01mpd\u001B[39;00m\n\u001B[0;32m      7\u001B[0m \u001B[38;5;28;01mfrom\u001B[39;00m \u001B[38;5;21;01mmultimethod\u001B[39;00m \u001B[38;5;28;01mimport\u001B[39;00m multimethod\n\u001B[1;32m----> 8\u001B[0m \u001B[38;5;28;01mfrom\u001B[39;00m \u001B[38;5;21;01mpandas\u001B[39;00m\u001B[38;5;21;01m.\u001B[39;00m\u001B[38;5;21;01mcore\u001B[39;00m\u001B[38;5;21;01m.\u001B[39;00m\u001B[38;5;21;01mbase\u001B[39;00m \u001B[38;5;28;01mimport\u001B[39;00m DataError\n\u001B[0;32m     10\u001B[0m \u001B[38;5;28;01mfrom\u001B[39;00m \u001B[38;5;21;01mpandas_profiling\u001B[39;00m\u001B[38;5;21;01m.\u001B[39;00m\u001B[38;5;21;01mconfig\u001B[39;00m \u001B[38;5;28;01mimport\u001B[39;00m Settings\n\u001B[0;32m     13\u001B[0m \u001B[38;5;28;01mclass\u001B[39;00m \u001B[38;5;21;01mCorrelation\u001B[39;00m:\n",
      "\u001B[1;31mImportError\u001B[0m: cannot import name 'DataError' from 'pandas.core.base' (C:\\Users\\shind\\Documents\\GitHub\\s26102_PredictRentPrices\\.venv\\Lib\\site-packages\\pandas\\core\\base.py)"
     ]
    }
   ],
   "source": [
    "from ydata_profiling import ProfileReport\n",
    "\n",
    "# Wygeneruj raport profilowania\n",
    "profile = ProfileReport(df, title=\"Raport Profilowania\", explorative=True)\n",
    "\n",
    "# Wyświetl raport w notebooku\n",
    "profile.to_notebook_iframe()\n"
   ],
   "metadata": {
    "collapsed": false,
    "ExecuteTime": {
     "end_time": "2024-11-26T00:55:42.667941Z",
     "start_time": "2024-11-26T00:54:53.798512Z"
    }
   },
   "id": "474d350153b6b1ac",
   "execution_count": 9
  },
  {
   "cell_type": "code",
   "outputs": [],
   "source": [
    "!pip install sweetviz\n",
    "\n",
    "import sweetviz as sv\n",
    "\n",
    "# Wygeneruj raport Sweetviz\n",
    "report = sv.analyze(df)\n",
    "\n",
    "# Wyświetl raport w notebooku\n",
    "report.show_notebook()"
   ],
   "metadata": {
    "collapsed": false,
    "ExecuteTime": {
     "end_time": "2024-11-26T00:51:46.223360Z",
     "start_time": "2024-11-26T00:51:46.223360Z"
    }
   },
   "id": "6fd520793d34ef19",
   "execution_count": null
  },
  {
   "cell_type": "markdown",
   "source": [
    "---------------------------------------------------\n",
    "Nie działa, robię w skrypcie automl_modeling.py\n",
    "---------------------------------------------------"
   ],
   "metadata": {
    "collapsed": false
   },
   "id": "967955d1eddc0ab1"
  },
  {
   "cell_type": "code",
   "outputs": [],
   "source": [],
   "metadata": {
    "collapsed": false
   },
   "id": "bec8707ae8619132"
  }
 ],
 "metadata": {
  "kernelspec": {
   "display_name": "Python 3",
   "language": "python",
   "name": "python3"
  },
  "language_info": {
   "codemirror_mode": {
    "name": "ipython",
    "version": 2
   },
   "file_extension": ".py",
   "mimetype": "text/x-python",
   "name": "python",
   "nbconvert_exporter": "python",
   "pygments_lexer": "ipython2",
   "version": "2.7.6"
  }
 },
 "nbformat": 4,
 "nbformat_minor": 5
}
