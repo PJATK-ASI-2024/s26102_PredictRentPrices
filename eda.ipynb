{
 "cells": [
  {
   "cell_type": "markdown",
   "source": [
    "Importowanie bibliotek i wczytanie danych"
   ],
   "metadata": {
    "collapsed": false
   },
   "id": "48631de130139a29"
  },
  {
   "cell_type": "code",
   "outputs": [],
   "source": [
    "# Importowanie niezbędnych bibliotek\n",
    "import pandas as pd\n",
    "import numpy as np\n",
    "import matplotlib.pyplot as plt\n",
    "import seaborn as sns\n",
    "\n",
    "# Ustawienie stylu wykresów\n",
    "sns.set(style='whitegrid', palette='deep')\n",
    "%matplotlib inline\n",
    "\n",
    "# Wczytanie oczyszczonego zestawu danych\n",
    "df = pd.read_csv('data/cleaned_data.csv')\n",
    "\n",
    "# Wyświetlenie pierwszych 5 wierszy\n",
    "df.head()"
   ],
   "metadata": {
    "collapsed": false
   },
   "id": "134301a0ec8c912e",
   "execution_count": null
  },
  {
   "cell_type": "markdown",
   "source": [
    "Podstawowa analiza danych"
   ],
   "metadata": {
    "collapsed": false
   },
   "id": "53dae8c29dad4fe3"
  },
  {
   "cell_type": "code",
   "outputs": [],
   "source": [
    "# Informacje o danych\n",
    "df.info()"
   ],
   "metadata": {
    "collapsed": false
   },
   "id": "adfa5912dfc79414",
   "execution_count": null
  },
  {
   "cell_type": "markdown",
   "source": [
    "Statystyki opisowe"
   ],
   "metadata": {
    "collapsed": false
   },
   "id": "c9f7326c5214ed76"
  },
  {
   "cell_type": "code",
   "outputs": [],
   "source": [
    "# Statystyki opisowe dla zmiennych numerycznych\n",
    "df.describe()"
   ],
   "metadata": {
    "collapsed": false
   },
   "id": "30bc669b563a93e4",
   "execution_count": null
  },
  {
   "cell_type": "markdown",
   "source": [
    "Sprawdzenie brakujących wartości"
   ],
   "metadata": {
    "collapsed": false
   },
   "id": "c22c8fb0bf0a4553"
  },
  {
   "cell_type": "code",
   "outputs": [],
   "source": [
    "# Sprawdzenie brakujących wartości\n",
    "df.isnull().sum()"
   ],
   "metadata": {
    "collapsed": false
   },
   "id": "23769c6e19a7944b",
   "execution_count": null
  },
  {
   "cell_type": "markdown",
   "source": [
    "Analiza zmiennej docelowej (Rent)"
   ],
   "metadata": {
    "collapsed": false
   },
   "id": "623e9b142d77fb29"
  },
  {
   "cell_type": "code",
   "outputs": [],
   "source": [
    "# Histogram rozkładu czynszu\n",
    "plt.figure(figsize=(10,6))\n",
    "sns.histplot(df['Rent'], bins=50, kde=True)\n",
    "plt.title('Rozkład czynszu')\n",
    "plt.xlabel('Czynsz (INR)')\n",
    "plt.ylabel('Liczba nieruchomości')\n",
    "plt.show()\n",
    "\n",
    "# Statystyki zmiennej 'Rent'\n",
    "print(df['Rent'].describe())\n",
    "\n",
    "# Transformacja logarytmiczna zmiennej 'Rent'\n",
    "df['Rent_Log'] = np.log1p(df['Rent'])\n",
    "\n",
    "# Histogram rozkładu logarytmicznego czynszu\n",
    "plt.figure(figsize=(10,6))\n",
    "sns.histplot(df['Rent_Log'], bins=50, kde=True)\n",
    "plt.title('Rozkład logarytmiczny czynszu')\n",
    "plt.xlabel('Log(Czynsz)')\n",
    "plt.ylabel('Liczba nieruchomości')\n",
    "plt.show()"
   ],
   "metadata": {
    "collapsed": false
   },
   "id": "1eedb6ca89eb08be",
   "execution_count": null
  },
  {
   "cell_type": "markdown",
   "source": [
    "Analiza cech numerycznych"
   ],
   "metadata": {
    "collapsed": false
   },
   "id": "7a5f8b328f982e36"
  },
  {
   "cell_type": "code",
   "outputs": [],
   "source": [
    "# Lista cech numerycznych\n",
    "numeric_features = ['Size', 'Floor Level', 'Total Floors', 'BHK', 'Bathroom']\n",
    "\n",
    "# Statystyki opisowe cech numerycznych\n",
    "df[numeric_features].describe()\n",
    "\n",
    "# Wykresy rozkładów\n",
    "for feature in numeric_features:\n",
    "    plt.figure(figsize=(10,6))\n",
    "    sns.histplot(df[feature], bins=30, kde=True)\n",
    "    plt.title(f'Rozkład cechy {feature}')\n",
    "    plt.xlabel(feature)\n",
    "    plt.ylabel('Liczba nieruchomości')\n",
    "    plt.show()\n",
    "    \n",
    "# Wykresy zależności\n",
    "for feature in numeric_features:\n",
    "    plt.figure(figsize=(10,6))\n",
    "    sns.scatterplot(x=feature, y='Rent', data=df)\n",
    "    plt.title(f'{feature} vs Czynsz')\n",
    "    plt.xlabel(feature)\n",
    "    plt.ylabel('Czynsz (INR)')\n",
    "    plt.show()"
   ],
   "metadata": {
    "collapsed": false
   },
   "id": "f2f9f6607183e5e3",
   "execution_count": null
  },
  {
   "cell_type": "markdown",
   "source": [
    "Analiza cech kategorycznych"
   ],
   "metadata": {
    "collapsed": false
   },
   "id": "1dd374aab227c991"
  },
  {
   "cell_type": "markdown",
   "source": [
    "Kolumna City"
   ],
   "metadata": {
    "collapsed": false
   },
   "id": "51edaf9675f54184"
  },
  {
   "cell_type": "code",
   "outputs": [],
   "source": [
    "# Lista kolumn dotyczących miasta\n",
    "city_columns = [col for col in df.columns if 'City_' in col]\n",
    "\n",
    "# Odtworzenie kolumny 'City'\n",
    "def get_city(row):\n",
    "    for col in city_columns:\n",
    "        if row[col] == 1:\n",
    "            return col.replace('City_', '')\n",
    "    return 'Other'\n",
    "\n",
    "df['City'] = df.apply(get_city, axis=1)"
   ],
   "metadata": {
    "collapsed": false
   },
   "id": "8694755d2a68965e",
   "execution_count": null
  },
  {
   "cell_type": "markdown",
   "source": [
    "Kolumna Furnishing Status"
   ],
   "metadata": {
    "collapsed": false
   },
   "id": "52d4ea2c7157f3f3"
  },
  {
   "cell_type": "code",
   "outputs": [],
   "source": [
    "# Lista kolumn dotyczących stanu umeblowania\n",
    "furnishing_columns = [col for col in df.columns if 'Furnishing Status_' in col]\n",
    "\n",
    "# Odtworzenie kolumny 'Furnishing Status'\n",
    "def get_furnishing_status(row):\n",
    "    for col in furnishing_columns:\n",
    "        if row[col] == 1:\n",
    "            return col.replace('Furnishing Status_', '')\n",
    "    return 'Furnished'  # Zakładamy, że 'Furnished' zostało usunięte przez 'drop_first=True'\n",
    "\n",
    "df['Furnishing Status'] = df.apply(get_furnishing_status, axis=1)"
   ],
   "metadata": {
    "collapsed": false
   },
   "id": "b691e1350e5b8f2e",
   "execution_count": null
  },
  {
   "cell_type": "markdown",
   "source": [
    "Kolumna Tenant Preferred"
   ],
   "metadata": {
    "collapsed": false
   },
   "id": "3430c6a92c2e4642"
  },
  {
   "cell_type": "code",
   "outputs": [],
   "source": [
    "# Lista kolumn dotyczących preferencji najemcy\n",
    "tenant_columns = [col for col in df.columns if 'Tenant Preferred_' in col]\n",
    "\n",
    "# Odtworzenie kolumny 'Tenant Preferred'\n",
    "def get_tenant_preferred(row):\n",
    "    for col in tenant_columns:\n",
    "        if row[col] == 1:\n",
    "            return col.replace('Tenant Preferred_', '')\n",
    "    return 'Bachelors'  # Zakładamy, że 'Bachelors' zostało usunięte przez 'drop_first=True'\n",
    "\n",
    "df['Tenant Preferred'] = df.apply(get_tenant_preferred, axis=1)"
   ],
   "metadata": {
    "collapsed": false
   },
   "id": "9f530a7ab7f95884",
   "execution_count": null
  },
  {
   "cell_type": "markdown",
   "source": [
    "Analiza wpływu cech kategorycznych na czynsz"
   ],
   "metadata": {
    "collapsed": false
   },
   "id": "e7b827e81c5277b3"
  },
  {
   "cell_type": "markdown",
   "source": [
    "Czynsz w zależności od miasta"
   ],
   "metadata": {
    "collapsed": false
   },
   "id": "95aa9662ffbd23c3"
  },
  {
   "cell_type": "code",
   "outputs": [],
   "source": [
    "plt.figure(figsize=(12,6))\n",
    "\n",
    "# Skala logarytmiczna dla osi Y\n",
    "sns.boxplot(x='City', y='Rent', data=df)\n",
    "plt.yscale('log')\n",
    "\n",
    "# Tytuły i opisy osi\n",
    "plt.title('Miasto vs Czynsz (skala logarytmiczna)')\n",
    "plt.xlabel('Miasto')\n",
    "plt.ylabel('Czynsz (INR, skala logarytmiczna)')\n",
    "\n",
    "# Rotacja etykiet na osi X\n",
    "plt.xticks(rotation=45)\n",
    "\n",
    "# Ustawienie limitów osi Y dla lepszej czytelności (opcjonalne)\n",
    "plt.ylim(1000, 1e6)\n",
    "\n",
    "plt.show()"
   ],
   "metadata": {
    "collapsed": false
   },
   "id": "c53ea63023adbd64",
   "execution_count": null
  },
  {
   "cell_type": "raw",
   "source": [
    "Obserwacja: lokalizacja ma kluczowy wpływ na wysokość czynszu, a wynajem w metropoliach takich jak Mumbai wiąże się z istotnie wyższymi kosztami."
   ],
   "metadata": {
    "collapsed": false
   },
   "id": "b2b0876a7621a124"
  },
  {
   "cell_type": "markdown",
   "source": [
    "Czynsz w zależności od stanu umeblowania"
   ],
   "metadata": {
    "collapsed": false
   },
   "id": "23f488643e71818c"
  },
  {
   "cell_type": "code",
   "outputs": [],
   "source": [
    "plt.figure(figsize=(8,6))\n",
    "\n",
    "# Skala logarytmiczna dla osi Y\n",
    "sns.boxplot(x='Furnishing Status', y='Rent', data=df)\n",
    "plt.yscale('log')\n",
    "\n",
    "# Tytuły i opisy osi\n",
    "plt.title('Stan umeblowania vs Czynsz (skala logarytmiczna)')\n",
    "plt.xlabel('Stan umeblowania')\n",
    "plt.ylabel('Czynsz (INR, skala logarytmiczna)')\n",
    "\n",
    "# Ustawienie limitów osi Y dla lepszej widoczności (opcjonalne)\n",
    "plt.ylim(1000, 1e6)\n",
    "\n",
    "plt.show()\n"
   ],
   "metadata": {
    "collapsed": false
   },
   "id": "f909a06e99813066",
   "execution_count": null
  },
  {
   "cell_type": "markdown",
   "source": [
    "Obserwacja: Czynsz wzrasta wraz z poziomem umeblowania nieruchomości – najmniejsze mediany dotyczą mieszkań Unfurnished (12,000 INR), a najwyższe Furnished (27,000 INR). Wyższy standard umeblowania wiąże się z wyraźnie wyższymi kosztami wynajmu."
   ],
   "metadata": {
    "collapsed": false
   },
   "id": "ae7d82e156424c7b"
  },
  {
   "cell_type": "markdown",
   "source": [
    "Czynsz w zależności od preferencji najemcy"
   ],
   "metadata": {
    "collapsed": false
   },
   "id": "ab14092fbc0378d1"
  },
  {
   "cell_type": "code",
   "outputs": [],
   "source": [
    "plt.figure(figsize=(10,6))\n",
    "\n",
    "# Użycie koloru z domyślnym stylem bez `palette`\n",
    "sns.boxplot(x='Tenant Preferred', y='Rent', data=df, hue='Tenant Preferred', dodge=False)\n",
    "plt.yscale('log')\n",
    "\n",
    "# Tytuły i opisy osi\n",
    "plt.title('Preferencje najemcy vs Czynsz (skala logarytmiczna)', fontsize=14)\n",
    "plt.xlabel('Preferencje najemcy', fontsize=12)\n",
    "plt.ylabel('Czynsz (INR, skala logarytmiczna)', fontsize=12)\n",
    "\n",
    "# Ustawienie limitów osi Y (opcjonalne)\n",
    "plt.ylim(1000, 1e6)\n",
    "\n",
    "plt.xticks(rotation=0)\n",
    "plt.legend([], [], frameon=False)  # Wyłączenie legendy\n",
    "plt.show()"
   ],
   "metadata": {
    "collapsed": false
   },
   "id": "e7c8f4b3e04c2b59",
   "execution_count": null
  },
  {
   "cell_type": "markdown",
   "source": [
    "Obserwacja: Czynsz różni się w zależności od preferencji najemcy. Bachelors/Family płacą najniższe mediany czynszu (15,000 INR), podczas gdy Bachelors (20,000 INR) i Family (25,000 INR) są skłonni zapłacić więcej. Preferencje rodzin są związane z najwyższymi medianami czynszu, co może wskazywać na większe zapotrzebowanie na większe i bardziej komfortowe mieszkania."
   ],
   "metadata": {
    "collapsed": false
   },
   "id": "e9546ae301280584"
  },
  {
   "cell_type": "markdown",
   "source": [
    "Analiza korelacji"
   ],
   "metadata": {
    "collapsed": false
   },
   "id": "255c905f6cbbc30a"
  },
  {
   "cell_type": "code",
   "outputs": [],
   "source": [
    "# Obliczenie macierzy korelacji\n",
    "corr_matrix = numeric_df.corr()\n",
    "\n",
    "# Wizualizacja macierzy korelacji\n",
    "plt.figure(figsize=(12,10))\n",
    "sns.heatmap(\n",
    "    corr_matrix, \n",
    "    annot=True, \n",
    "    fmt=\".2f\", \n",
    "    cmap='coolwarm', \n",
    "    vmin=-1, vmax=1,  # Zakres korelacji od -1 do 1\n",
    "    cbar_kws={'shrink': 0.8}  # Dopasowanie rozmiaru paska kolorów\n",
    ")\n",
    "\n",
    "# Tytuł i estetyka\n",
    "plt.title('Macierz korelacji', fontsize=14)\n",
    "plt.xticks(fontsize=8, rotation=45)\n",
    "plt.yticks(fontsize=8)\n",
    "plt.tight_layout()\n",
    "plt.show()"
   ],
   "metadata": {
    "collapsed": false
   },
   "id": "6c51b2c6d6ea9b47",
   "execution_count": null
  },
  {
   "cell_type": "markdown",
   "source": [
    "Obserwacje:\n",
    "Size, Bathroom, i BHK to kluczowe zmienne wpływające na Rent, szczególnie po logarytmizacji (patrz: Rent_Log).\n",
    "Wysoka korelacja między Total Floors a Floor Level może wskazywać na zależności strukturalne w budynku.\n",
    "Niski wpływ piętra (Floor Level) sugeruje, że inne czynniki, takie jak lokalizacja czy standard nieruchomości, mogą mieć większe znaczenie przy ustalaniu czynszu."
   ],
   "metadata": {
    "collapsed": false
   },
   "id": "db0bd6542fd4087b"
  },
  {
   "cell_type": "markdown",
   "source": [
    "Identyfikacja i obsługa wartości odstających"
   ],
   "metadata": {
    "collapsed": false
   },
   "id": "5a3671c4edd7b87c"
  },
  {
   "cell_type": "code",
   "outputs": [],
   "source": [
    "# Lista cech numerycznych\n",
    "numeric_features = ['Size', 'Floor Level', 'Total Floors', 'BHK', 'Bathroom', 'Rent']\n",
    "\n",
    "# Wykresy pudełkowe bez użycia `palette`\n",
    "for feature in numeric_features:\n",
    "    plt.figure(figsize=(10,6))\n",
    "    sns.boxplot(x=df[feature], hue=None)  # Usunięcie `palette`, brak zmiennej `hue`\n",
    "    plt.title(f'Wykres pudełkowy dla {feature}', fontsize=14)\n",
    "    plt.xlabel(feature, fontsize=12)\n",
    "    plt.grid(axis='x', linestyle='--', alpha=0.7)\n",
    "    plt.tight_layout()\n",
    "    plt.show()"
   ],
   "metadata": {
    "collapsed": false
   },
   "id": "c2187e36169ef837",
   "execution_count": null
  },
  {
   "cell_type": "markdown",
   "source": [
    "Usunięcie wartości odstających"
   ],
   "metadata": {
    "collapsed": false
   },
   "id": "c02c454f7c672403"
  },
  {
   "cell_type": "code",
   "outputs": [],
   "source": [
    "def remove_outliers(df, feature):\n",
    "    Q1 = df[feature].quantile(0.25)  # Pierwszy kwartyl\n",
    "    Q3 = df[feature].quantile(0.75)  # Trzeci kwartyl\n",
    "    IQR = Q3 - Q1  # Rozstęp międzykwartylowy\n",
    "    lower_limit = Q1 - 1.5 * IQR  # Dolna granica\n",
    "    upper_limit = Q3 + 1.5 * IQR  # Górna granica\n",
    "    return df[(df[feature] >= lower_limit) & (df[feature] <= upper_limit)]\n",
    "\n",
    "# Usuwanie wartości odstających dla każdej cechy numerycznej\n",
    "for feature in numeric_features:\n",
    "    original_len = len(df)\n",
    "    df = remove_outliers(df, feature)\n",
    "    print(f'{feature}: Usunięto {original_len - len(df)} wartości odstających.')\n",
    "\n",
    "# Porównanie rozmiaru zbioru danych przed i po usunięciu wartości odstających\n",
    "print(f'Rozmiar danych po usunięciu wartości odstających: {len(df)}')"
   ],
   "metadata": {
    "collapsed": false
   },
   "id": "2dbd06dcac97f16",
   "execution_count": null
  },
  {
   "cell_type": "markdown",
   "source": [
    "Ponowna analiza po usunięciu wartości odstających"
   ],
   "metadata": {
    "collapsed": false
   },
   "id": "e6da7eee3cf76a8"
  },
  {
   "cell_type": "code",
   "outputs": [
    {
     "data": {
      "text/plain": "<Figure size 1000x600 with 1 Axes>",
      "image/png": "[encoded data removed]"
     },
     "metadata": {},
     "output_type": "display_data"
    }
   ],
   "source": [
    "plt.figure(figsize=(10,6))\n",
    "sns.histplot(df_no_outliers['Rent'], bins=50, kde=True)\n",
    "plt.title('Rozkład czynszu po usunięciu wartości odstających')\n",
    "plt.xlabel('Czynsz (INR)')\n",
    "plt.ylabel('Liczba nieruchomości')\n",
    "plt.show()"
   ],
   "metadata": {
    "collapsed": false,
    "ExecuteTime": {
     "end_time": "2024-11-26T00:35:25.948591Z",
     "start_time": "2024-11-26T00:35:25.767344Z"
    }
   },
   "id": "80c3316a6c6d96b8",
   "execution_count": 30
  },
  {
   "cell_type": "markdown",
   "source": [
    "Obserwacja: Po usunięciu wartości odstających rozkład czynszu stał się bardziej skupiony i przypomina rozkład prawoskośny. Większość nieruchomości ma czynsz w przedziale 10,000–20,000 INR, z wyraźnym szczytem około 15,000 INR. Wartości powyżej 30,000 INR są mniej liczne, co wskazuje, że usunięcie wartości odstających skutecznie zredukowało wpływ rzadkich, ekstremalnych czynszów na analizę. Rozkład po czyszczeniu jest bardziej reprezentatywny dla głównej populacji danych."
   ],
   "metadata": {
    "collapsed": false
   },
   "id": "b9ecb31835d67526"
  },
  {
   "cell_type": "markdown",
   "source": [
    "Zapisanie danych po usunięciu zmiennych odstających"
   ],
   "metadata": {
    "collapsed": false
   },
   "id": "7310e7527410d9d0"
  },
  {
   "cell_type": "code",
   "outputs": [],
   "source": [
    "# Zapisanie oczyszczonego zbioru danych do pliku CSV\n",
    "df_no_outliers.to_csv('data/cleaned_data_no_outliers.csv', index=False)"
   ],
   "metadata": {
    "collapsed": false
   },
   "id": "de0c7e0407dd7428",
   "execution_count": null
  },
  {
   "cell_type": "markdown",
   "source": [],
   "metadata": {
    "collapsed": false
   },
   "id": "389838ce4dfb59fb"
  }
 ],
 "metadata": {
  "kernelspec": {
   "display_name": "Python 3",
   "language": "python",
   "name": "python3"
  },
  "language_info": {
   "codemirror_mode": {
    "name": "ipython",
    "version": 2
   },
   "file_extension": ".py",
   "mimetype": "text/x-python",
   "name": "python",
   "nbconvert_exporter": "python",
   "pygments_lexer": "ipython2",
   "version": "2.7.6"
  }
 },
 "nbformat": 4,
 "nbformat_minor": 5
}
